{
 "cells": [
  {
   "cell_type": "code",
   "execution_count": 2,
   "id": "352b6364",
   "metadata": {},
   "outputs": [],
   "source": [
    "import warnings\n",
    "import numpy as np\n",
    "import pandas as pd\n",
    "import seaborn as sns\n",
    "import matplotlib.pyplot as plt\n",
    "import plotly.express as px\n",
    "import plotly.graph_objects as go \n",
    "import seaborn as sns\n",
    "import plotly.io as pio\n",
    "from IPython.display import Image\n",
    "from sklearn.preprocessing import StandardScaler\n"
   ]
  },
  {
   "cell_type": "code",
   "execution_count": 3,
   "id": "8830f548",
   "metadata": {},
   "outputs": [],
   "source": [
    "%matplotlib inline\n",
    "warnings.filterwarnings(\"ignore\")"
   ]
  },
  {
   "cell_type": "code",
   "execution_count": 4,
   "id": "b44a5123",
   "metadata": {},
   "outputs": [],
   "source": [
    "import sys\n",
    "import os\n",
    "sys.path.append(os.path.abspath(os.path.join('../scripts')))\n",
    "from file_handler import FileHandler\n",
    "from vis_seaborn import VisSeaborn"
   ]
  },
  {
   "cell_type": "code",
   "execution_count": 5,
   "id": "cf1b45ec",
   "metadata": {},
   "outputs": [],
   "source": [
    "# LOAD DATA features data\n",
    "train_features = pd.read_csv(\"../features/train_features.csv\")\n",
    "test_features = pd.read_csv(\"../features/test_features.csv\")\n",
    "train_sales = pd.read_csv(\"../features/train_sales.csv\")\n",
    "train_customers = pd.read_csv(\"../features/train_customers.csv\")\n"
   ]
  },
  {
   "cell_type": "markdown",
   "id": "32cd4233",
   "metadata": {},
   "source": [
    "# Modelling\n"
   ]
  },
  {
   "cell_type": "markdown",
   "id": "e29aed88",
   "metadata": {},
   "source": [
    "# Loss function\n"
   ]
  },
  {
   "cell_type": "code",
   "execution_count": 6,
   "id": "975a0bce",
   "metadata": {},
   "outputs": [],
   "source": [
    "file_handler = FileHandler()\n",
    "sn = VisSeaborn()"
   ]
  },
  {
   "cell_type": "code",
   "execution_count": 7,
   "id": "cb0cf8b7",
   "metadata": {},
   "outputs": [],
   "source": [
    "feature_columns = [x for x in train_features]"
   ]
  },
  {
   "cell_type": "code",
   "execution_count": 20,
   "id": "389723f4",
   "metadata": {},
   "outputs": [
    {
     "name": "stdout",
     "output_type": "stream",
     "text": [
      "2022-05-26 19:20:15,102 — DfHelper — DEBUG — model read as pkl\n"
     ]
    },
    {
     "data": {
      "text/plain": [
       "LGBMRegressor()"
      ]
     },
     "execution_count": 20,
     "metadata": {},
     "output_type": "execute_result"
    }
   ],
   "source": [
    "model = file_handler.read_model(\"Light GBM Regressor_Sales-2022-05-26-16:18\")\n",
    "model"
   ]
  },
  {
   "cell_type": "code",
   "execution_count": 21,
   "id": "d064d062",
   "metadata": {},
   "outputs": [
    {
     "data": {
      "text/html": [
       "<div>\n",
       "<style scoped>\n",
       "    .dataframe tbody tr th:only-of-type {\n",
       "        vertical-align: middle;\n",
       "    }\n",
       "\n",
       "    .dataframe tbody tr th {\n",
       "        vertical-align: top;\n",
       "    }\n",
       "\n",
       "    .dataframe thead th {\n",
       "        text-align: right;\n",
       "    }\n",
       "</style>\n",
       "<table border=\"1\" class=\"dataframe\">\n",
       "  <thead>\n",
       "    <tr style=\"text-align: right;\">\n",
       "      <th></th>\n",
       "      <th>Feature Importance</th>\n",
       "    </tr>\n",
       "    <tr>\n",
       "      <th>Feature</th>\n",
       "      <th></th>\n",
       "    </tr>\n",
       "  </thead>\n",
       "  <tbody>\n",
       "    <tr>\n",
       "      <th>CompetitionDistance</th>\n",
       "      <td>1163</td>\n",
       "    </tr>\n",
       "    <tr>\n",
       "      <th>StoreType</th>\n",
       "      <td>243</td>\n",
       "    </tr>\n",
       "    <tr>\n",
       "      <th>CompetitionOpen</th>\n",
       "      <td>214</td>\n",
       "    </tr>\n",
       "    <tr>\n",
       "      <th>Day</th>\n",
       "      <td>179</td>\n",
       "    </tr>\n",
       "    <tr>\n",
       "      <th>DayOfWeek</th>\n",
       "      <td>168</td>\n",
       "    </tr>\n",
       "    <tr>\n",
       "      <th>Promo2Open</th>\n",
       "      <td>166</td>\n",
       "    </tr>\n",
       "    <tr>\n",
       "      <th>Assortment</th>\n",
       "      <td>166</td>\n",
       "    </tr>\n",
       "    <tr>\n",
       "      <th>PromoInterval0</th>\n",
       "      <td>139</td>\n",
       "    </tr>\n",
       "    <tr>\n",
       "      <th>Promo2</th>\n",
       "      <td>120</td>\n",
       "    </tr>\n",
       "    <tr>\n",
       "      <th>WeekOfYear</th>\n",
       "      <td>108</td>\n",
       "    </tr>\n",
       "    <tr>\n",
       "      <th>days_after_state_holiday</th>\n",
       "      <td>99</td>\n",
       "    </tr>\n",
       "    <tr>\n",
       "      <th>days_before_state_holiday</th>\n",
       "      <td>68</td>\n",
       "    </tr>\n",
       "    <tr>\n",
       "      <th>Month</th>\n",
       "      <td>63</td>\n",
       "    </tr>\n",
       "    <tr>\n",
       "      <th>Year</th>\n",
       "      <td>52</td>\n",
       "    </tr>\n",
       "    <tr>\n",
       "      <th>Promo</th>\n",
       "      <td>36</td>\n",
       "    </tr>\n",
       "    <tr>\n",
       "      <th>SchoolHoliday</th>\n",
       "      <td>12</td>\n",
       "    </tr>\n",
       "    <tr>\n",
       "      <th>part_of_month</th>\n",
       "      <td>2</td>\n",
       "    </tr>\n",
       "    <tr>\n",
       "      <th>StateHoliday</th>\n",
       "      <td>2</td>\n",
       "    </tr>\n",
       "    <tr>\n",
       "      <th>PromoInterval2</th>\n",
       "      <td>0</td>\n",
       "    </tr>\n",
       "    <tr>\n",
       "      <th>PromoInterval1</th>\n",
       "      <td>0</td>\n",
       "    </tr>\n",
       "    <tr>\n",
       "      <th>Weekend</th>\n",
       "      <td>0</td>\n",
       "    </tr>\n",
       "    <tr>\n",
       "      <th>Weekday</th>\n",
       "      <td>0</td>\n",
       "    </tr>\n",
       "    <tr>\n",
       "      <th>PromoInterval3</th>\n",
       "      <td>0</td>\n",
       "    </tr>\n",
       "  </tbody>\n",
       "</table>\n",
       "</div>"
      ],
      "text/plain": [
       "                           Feature Importance\n",
       "Feature                                      \n",
       "CompetitionDistance                      1163\n",
       "StoreType                                 243\n",
       "CompetitionOpen                           214\n",
       "Day                                       179\n",
       "DayOfWeek                                 168\n",
       "Promo2Open                                166\n",
       "Assortment                                166\n",
       "PromoInterval0                            139\n",
       "Promo2                                    120\n",
       "WeekOfYear                                108\n",
       "days_after_state_holiday                   99\n",
       "days_before_state_holiday                  68\n",
       "Month                                      63\n",
       "Year                                       52\n",
       "Promo                                      36\n",
       "SchoolHoliday                              12\n",
       "part_of_month                               2\n",
       "StateHoliday                                2\n",
       "PromoInterval2                              0\n",
       "PromoInterval1                              0\n",
       "Weekend                                     0\n",
       "Weekday                                     0\n",
       "PromoInterval3                              0"
      ]
     },
     "execution_count": 21,
     "metadata": {},
     "output_type": "execute_result"
    }
   ],
   "source": [
    "feat_imp = pd.DataFrame({'Feature': feature_columns, 'Feature Importance': model.feature_importances_})\n",
    "feat_imp = feat_imp.set_index('Feature')\n",
    "feat_imp = feat_imp.sort_values(by=['Feature Importance'], ascending=False)\n",
    "feat_imp"
   ]
  },
  {
   "cell_type": "code",
   "execution_count": 22,
   "id": "8df99f91",
   "metadata": {},
   "outputs": [
    {
     "data": {
      "image/png": "[encoded data removed]",
      "text/plain": [
       "<Figure size 720x432 with 1 Axes>"
      ]
     },
     "metadata": {
      "needs_background": "light"
     },
     "output_type": "display_data"
    }
   ],
   "source": [
    "plt.figure(figsize=(10, 6))\n",
    "ax = sns.barplot(x=\"Feature Importance\", y=feat_imp.index, data=feat_imp)\n",
    "plt.ylabel('Feature', fontsize=14)\n",
    "plt.xlabel('Feature Importance', fontsize=14)\n",
    "plt.show()"
   ]
  },
  {
   "cell_type": "code",
   "execution_count": 23,
   "id": "9d2c845d",
   "metadata": {},
   "outputs": [
    {
     "data": {
      "text/html": [
       "<div>\n",
       "<style scoped>\n",
       "    .dataframe tbody tr th:only-of-type {\n",
       "        vertical-align: middle;\n",
       "    }\n",
       "\n",
       "    .dataframe tbody tr th {\n",
       "        vertical-align: top;\n",
       "    }\n",
       "\n",
       "    .dataframe thead th {\n",
       "        text-align: right;\n",
       "    }\n",
       "</style>\n",
       "<table border=\"1\" class=\"dataframe\">\n",
       "  <thead>\n",
       "    <tr style=\"text-align: right;\">\n",
       "      <th></th>\n",
       "      <th>y_true</th>\n",
       "      <th>y_pred</th>\n",
       "    </tr>\n",
       "  </thead>\n",
       "  <tbody>\n",
       "    <tr>\n",
       "      <th>0</th>\n",
       "      <td>3821</td>\n",
       "      <td>7622.529443</td>\n",
       "    </tr>\n",
       "    <tr>\n",
       "      <th>1</th>\n",
       "      <td>10765</td>\n",
       "      <td>7622.529443</td>\n",
       "    </tr>\n",
       "    <tr>\n",
       "      <th>2</th>\n",
       "      <td>8498</td>\n",
       "      <td>7622.529443</td>\n",
       "    </tr>\n",
       "    <tr>\n",
       "      <th>3</th>\n",
       "      <td>3113</td>\n",
       "      <td>7156.289950</td>\n",
       "    </tr>\n",
       "    <tr>\n",
       "      <th>4</th>\n",
       "      <td>14049</td>\n",
       "      <td>6120.825666</td>\n",
       "    </tr>\n",
       "  </tbody>\n",
       "</table>\n",
       "</div>"
      ],
      "text/plain": [
       "   y_true       y_pred\n",
       "0    3821  7622.529443\n",
       "1   10765  7622.529443\n",
       "2    8498  7622.529443\n",
       "3    3113  7156.289950\n",
       "4   14049  6120.825666"
      ]
     },
     "execution_count": 23,
     "metadata": {},
     "output_type": "execute_result"
    }
   ],
   "source": [
    "y_preds = model.predict(train_features) \n",
    "prediction_df = train_features.copy()\n",
    "prediction_df[\"y_true\"] = train_sales\n",
    "prediction_df[\"y_pred\"] = y_preds \n",
    "prediction_df[[\"y_true\", \"y_pred\"]].head() "
   ]
  },
  {
   "cell_type": "code",
   "execution_count": 24,
   "id": "e1d15b1d",
   "metadata": {
    "scrolled": true
   },
   "outputs": [
    {
     "data": {
      "text/plain": [
       "<AxesSubplot:xlabel='Day', ylabel='y_true'>"
      ]
     },
     "execution_count": 24,
     "metadata": {},
     "output_type": "execute_result"
    },
    {
     "data": {
      "image/png": "[encoded data removed]",
      "text/plain": [
       "<Figure size 1296x432 with 1 Axes>"
      ]
     },
     "metadata": {
      "needs_background": "light"
     },
     "output_type": "display_data"
    }
   ],
   "source": [
    "daily_trend = prediction_df.groupby(['Day']).agg({'y_true': 'mean', 'y_pred': 'mean'})\n",
    "plt.figure(figsize=(18, 6))\n",
    "sns.lineplot(x=daily_trend.index, y=daily_trend[\"y_true\"])\n",
    "sns.lineplot(x=daily_trend.index, y=daily_trend[\"y_pred\"])"
   ]
  },
  {
   "cell_type": "markdown",
   "id": "0d8fff0b",
   "metadata": {},
   "source": [
    "#  XGBOODT Regressor\n"
   ]
  },
  {
   "cell_type": "code",
   "execution_count": 25,
   "id": "a7246de9",
   "metadata": {},
   "outputs": [
    {
     "name": "stdout",
     "output_type": "stream",
     "text": [
      "2022-05-26 19:20:41,282 — DfHelper — DEBUG — model read as pkl\n"
     ]
    },
    {
     "data": {
      "text/plain": [
       "RandomForestRegressor(max_depth=15, n_estimators=15, n_jobs=-1, verbose=True)"
      ]
     },
     "execution_count": 25,
     "metadata": {},
     "output_type": "execute_result"
    }
   ],
   "source": [
    "model = file_handler.read_model(\"Random Forest Regressor_Sales-2022-05-26-16:11\")\n",
    "model"
   ]
  },
  {
   "cell_type": "code",
   "execution_count": 26,
   "id": "2750dd33",
   "metadata": {
    "scrolled": false
   },
   "outputs": [
    {
     "data": {
      "text/html": [
       "<div>\n",
       "<style scoped>\n",
       "    .dataframe tbody tr th:only-of-type {\n",
       "        vertical-align: middle;\n",
       "    }\n",
       "\n",
       "    .dataframe tbody tr th {\n",
       "        vertical-align: top;\n",
       "    }\n",
       "\n",
       "    .dataframe thead th {\n",
       "        text-align: right;\n",
       "    }\n",
       "</style>\n",
       "<table border=\"1\" class=\"dataframe\">\n",
       "  <thead>\n",
       "    <tr style=\"text-align: right;\">\n",
       "      <th></th>\n",
       "      <th>Feature Importance</th>\n",
       "    </tr>\n",
       "    <tr>\n",
       "      <th>Feature</th>\n",
       "      <th></th>\n",
       "    </tr>\n",
       "  </thead>\n",
       "  <tbody>\n",
       "    <tr>\n",
       "      <th>CompetitionDistance</th>\n",
       "      <td>0.318261</td>\n",
       "    </tr>\n",
       "    <tr>\n",
       "      <th>Promo</th>\n",
       "      <td>0.241335</td>\n",
       "    </tr>\n",
       "    <tr>\n",
       "      <th>DayOfWeek</th>\n",
       "      <td>0.071503</td>\n",
       "    </tr>\n",
       "    <tr>\n",
       "      <th>Promo2Open</th>\n",
       "      <td>0.060601</td>\n",
       "    </tr>\n",
       "    <tr>\n",
       "      <th>CompetitionOpen</th>\n",
       "      <td>0.055836</td>\n",
       "    </tr>\n",
       "    <tr>\n",
       "      <th>StoreType</th>\n",
       "      <td>0.054628</td>\n",
       "    </tr>\n",
       "    <tr>\n",
       "      <th>WeekOfYear</th>\n",
       "      <td>0.031081</td>\n",
       "    </tr>\n",
       "    <tr>\n",
       "      <th>Assortment</th>\n",
       "      <td>0.030391</td>\n",
       "    </tr>\n",
       "    <tr>\n",
       "      <th>Day</th>\n",
       "      <td>0.022876</td>\n",
       "    </tr>\n",
       "    <tr>\n",
       "      <th>PromoInterval3</th>\n",
       "      <td>0.017594</td>\n",
       "    </tr>\n",
       "    <tr>\n",
       "      <th>days_after_state_holiday</th>\n",
       "      <td>0.015998</td>\n",
       "    </tr>\n",
       "    <tr>\n",
       "      <th>PromoInterval0</th>\n",
       "      <td>0.014826</td>\n",
       "    </tr>\n",
       "    <tr>\n",
       "      <th>days_before_state_holiday</th>\n",
       "      <td>0.014373</td>\n",
       "    </tr>\n",
       "    <tr>\n",
       "      <th>PromoInterval2</th>\n",
       "      <td>0.014103</td>\n",
       "    </tr>\n",
       "    <tr>\n",
       "      <th>PromoInterval1</th>\n",
       "      <td>0.011669</td>\n",
       "    </tr>\n",
       "    <tr>\n",
       "      <th>Promo2</th>\n",
       "      <td>0.007750</td>\n",
       "    </tr>\n",
       "    <tr>\n",
       "      <th>Month</th>\n",
       "      <td>0.006069</td>\n",
       "    </tr>\n",
       "    <tr>\n",
       "      <th>Year</th>\n",
       "      <td>0.004489</td>\n",
       "    </tr>\n",
       "    <tr>\n",
       "      <th>Weekday</th>\n",
       "      <td>0.002308</td>\n",
       "    </tr>\n",
       "    <tr>\n",
       "      <th>SchoolHoliday</th>\n",
       "      <td>0.002066</td>\n",
       "    </tr>\n",
       "    <tr>\n",
       "      <th>Weekend</th>\n",
       "      <td>0.001353</td>\n",
       "    </tr>\n",
       "    <tr>\n",
       "      <th>StateHoliday</th>\n",
       "      <td>0.000580</td>\n",
       "    </tr>\n",
       "    <tr>\n",
       "      <th>part_of_month</th>\n",
       "      <td>0.000310</td>\n",
       "    </tr>\n",
       "  </tbody>\n",
       "</table>\n",
       "</div>"
      ],
      "text/plain": [
       "                           Feature Importance\n",
       "Feature                                      \n",
       "CompetitionDistance                  0.318261\n",
       "Promo                                0.241335\n",
       "DayOfWeek                            0.071503\n",
       "Promo2Open                           0.060601\n",
       "CompetitionOpen                      0.055836\n",
       "StoreType                            0.054628\n",
       "WeekOfYear                           0.031081\n",
       "Assortment                           0.030391\n",
       "Day                                  0.022876\n",
       "PromoInterval3                       0.017594\n",
       "days_after_state_holiday             0.015998\n",
       "PromoInterval0                       0.014826\n",
       "days_before_state_holiday            0.014373\n",
       "PromoInterval2                       0.014103\n",
       "PromoInterval1                       0.011669\n",
       "Promo2                               0.007750\n",
       "Month                                0.006069\n",
       "Year                                 0.004489\n",
       "Weekday                              0.002308\n",
       "SchoolHoliday                        0.002066\n",
       "Weekend                              0.001353\n",
       "StateHoliday                         0.000580\n",
       "part_of_month                        0.000310"
      ]
     },
     "execution_count": 26,
     "metadata": {},
     "output_type": "execute_result"
    }
   ],
   "source": [
    "feat_imp = pd.DataFrame({'Feature': feature_columns, 'Feature Importance': model.feature_importances_})\n",
    "feat_imp = feat_imp.set_index('Feature')\n",
    "feat_imp = feat_imp.sort_values(by=['Feature Importance'], ascending=False)\n",
    "feat_imp"
   ]
  },
  {
   "cell_type": "code",
   "execution_count": 27,
   "id": "b099e97f",
   "metadata": {},
   "outputs": [
    {
     "data": {
      "image/png": "[encoded data removed]",
      "text/plain": [
       "<Figure size 720x432 with 1 Axes>"
      ]
     },
     "metadata": {
      "needs_background": "light"
     },
     "output_type": "display_data"
    }
   ],
   "source": [
    "plt.figure(figsize=(10, 6))\n",
    "ax = sns.barplot(x=\"Feature Importance\", y=feat_imp.index, data=feat_imp)\n",
    "plt.ylabel('Feature', fontsize=14)\n",
    "plt.xlabel('Feature Importance', fontsize=14)\n",
    "plt.show()"
   ]
  },
  {
   "cell_type": "code",
   "execution_count": 28,
   "id": "ac4b18ef",
   "metadata": {},
   "outputs": [
    {
     "name": "stderr",
     "output_type": "stream",
     "text": [
      "[Parallel(n_jobs=4)]: Using backend ThreadingBackend with 4 concurrent workers.\n",
      "[Parallel(n_jobs=4)]: Done  15 out of  15 | elapsed:    0.2s finished\n"
     ]
    },
    {
     "data": {
      "text/html": [
       "<div>\n",
       "<style scoped>\n",
       "    .dataframe tbody tr th:only-of-type {\n",
       "        vertical-align: middle;\n",
       "    }\n",
       "\n",
       "    .dataframe tbody tr th {\n",
       "        vertical-align: top;\n",
       "    }\n",
       "\n",
       "    .dataframe thead th {\n",
       "        text-align: right;\n",
       "    }\n",
       "</style>\n",
       "<table border=\"1\" class=\"dataframe\">\n",
       "  <thead>\n",
       "    <tr style=\"text-align: right;\">\n",
       "      <th></th>\n",
       "      <th>y_true</th>\n",
       "      <th>y_pred</th>\n",
       "    </tr>\n",
       "  </thead>\n",
       "  <tbody>\n",
       "    <tr>\n",
       "      <th>0</th>\n",
       "      <td>3821</td>\n",
       "      <td>9317.776404</td>\n",
       "    </tr>\n",
       "    <tr>\n",
       "      <th>1</th>\n",
       "      <td>10765</td>\n",
       "      <td>9317.776404</td>\n",
       "    </tr>\n",
       "    <tr>\n",
       "      <th>2</th>\n",
       "      <td>8498</td>\n",
       "      <td>9317.776404</td>\n",
       "    </tr>\n",
       "    <tr>\n",
       "      <th>3</th>\n",
       "      <td>3113</td>\n",
       "      <td>9030.469846</td>\n",
       "    </tr>\n",
       "    <tr>\n",
       "      <th>4</th>\n",
       "      <td>14049</td>\n",
       "      <td>7496.266573</td>\n",
       "    </tr>\n",
       "  </tbody>\n",
       "</table>\n",
       "</div>"
      ],
      "text/plain": [
       "   y_true       y_pred\n",
       "0    3821  9317.776404\n",
       "1   10765  9317.776404\n",
       "2    8498  9317.776404\n",
       "3    3113  9030.469846\n",
       "4   14049  7496.266573"
      ]
     },
     "execution_count": 28,
     "metadata": {},
     "output_type": "execute_result"
    }
   ],
   "source": [
    "y_preds = model.predict(train_features)\n",
    "prediction_df = train_features.copy()\n",
    "prediction_df[\"y_true\"] = train_sales\n",
    "prediction_df[\"y_pred\"] = y_preds\n",
    "prediction_df[[\"y_true\", \"y_pred\"]].head()"
   ]
  },
  {
   "cell_type": "code",
   "execution_count": 29,
   "id": "deea439f",
   "metadata": {},
   "outputs": [
    {
     "data": {
      "text/plain": [
       "<AxesSubplot:xlabel='Day', ylabel='y_true'>"
      ]
     },
     "execution_count": 29,
     "metadata": {},
     "output_type": "execute_result"
    },
    {
     "data": {
      "image/png": "[encoded data removed]",
      "text/plain": [
       "<Figure size 1296x432 with 1 Axes>"
      ]
     },
     "metadata": {
      "needs_background": "light"
     },
     "output_type": "display_data"
    }
   ],
   "source": [
    "daily_trend = prediction_df.groupby(['Day']).agg({'y_true': 'mean', 'y_pred': 'mean'})\n",
    "plt.figure(figsize=(18, 6))\n",
    "sns.lineplot(x=daily_trend.index, y=daily_trend[\"y_true\"])\n",
    "sns.lineplot(x=daily_trend.index, y=daily_trend[\"y_pred\"])"
   ]
  },
  {
   "cell_type": "markdown",
   "id": "7459d82d",
   "metadata": {},
   "source": [
    "#  Time Series Model"
   ]
  },
  {
   "cell_type": "code",
   "execution_count": 72,
   "id": "6387ecb0",
   "metadata": {},
   "outputs": [
    {
     "name": "stdout",
     "output_type": "stream",
     "text": [
      "2022-05-26 22:52:15,389 — DfHelper — DEBUG — file read as csv\n"
     ]
    }
   ],
   "source": [
    "import tensorflow as tf\n",
    "from tensorflow.keras.models import Sequential\n",
    "from tensorflow.keras.layers import Dense\n",
    "from tensorflow.keras.layers import LSTM\n",
    "warnings.filterwarnings(\"ignore\")\n",
    "train_sales = file_handler.read_csv(\"../pages/train.csv\")"
   ]
  },
  {
   "cell_type": "code",
   "execution_count": 73,
   "id": "19ef54d9",
   "metadata": {},
   "outputs": [
    {
     "data": {
      "text/html": [
       "<div>\n",
       "<style scoped>\n",
       "    .dataframe tbody tr th:only-of-type {\n",
       "        vertical-align: middle;\n",
       "    }\n",
       "\n",
       "    .dataframe tbody tr th {\n",
       "        vertical-align: top;\n",
       "    }\n",
       "\n",
       "    .dataframe thead th {\n",
       "        text-align: right;\n",
       "    }\n",
       "</style>\n",
       "<table border=\"1\" class=\"dataframe\">\n",
       "  <thead>\n",
       "    <tr style=\"text-align: right;\">\n",
       "      <th></th>\n",
       "      <th>Sales</th>\n",
       "    </tr>\n",
       "    <tr>\n",
       "      <th>Date</th>\n",
       "      <th></th>\n",
       "    </tr>\n",
       "  </thead>\n",
       "  <tbody>\n",
       "    <tr>\n",
       "      <th>2013-01-01</th>\n",
       "      <td>84.395871</td>\n",
       "    </tr>\n",
       "    <tr>\n",
       "      <th>2013-01-02</th>\n",
       "      <td>6178.517489</td>\n",
       "    </tr>\n",
       "    <tr>\n",
       "      <th>2013-01-03</th>\n",
       "      <td>5660.173094</td>\n",
       "    </tr>\n",
       "    <tr>\n",
       "      <th>2013-01-04</th>\n",
       "      <td>5923.138117</td>\n",
       "    </tr>\n",
       "    <tr>\n",
       "      <th>2013-01-05</th>\n",
       "      <td>5299.049327</td>\n",
       "    </tr>\n",
       "    <tr>\n",
       "      <th>...</th>\n",
       "      <td>...</td>\n",
       "    </tr>\n",
       "    <tr>\n",
       "      <th>2015-07-27</th>\n",
       "      <td>9371.965919</td>\n",
       "    </tr>\n",
       "    <tr>\n",
       "      <th>2015-07-28</th>\n",
       "      <td>8066.852915</td>\n",
       "    </tr>\n",
       "    <tr>\n",
       "      <th>2015-07-29</th>\n",
       "      <td>7545.017040</td>\n",
       "    </tr>\n",
       "    <tr>\n",
       "      <th>2015-07-30</th>\n",
       "      <td>7811.832287</td>\n",
       "    </tr>\n",
       "    <tr>\n",
       "      <th>2015-07-31</th>\n",
       "      <td>8888.931839</td>\n",
       "    </tr>\n",
       "  </tbody>\n",
       "</table>\n",
       "<p>942 rows × 1 columns</p>\n",
       "</div>"
      ],
      "text/plain": [
       "                  Sales\n",
       "Date                   \n",
       "2013-01-01    84.395871\n",
       "2013-01-02  6178.517489\n",
       "2013-01-03  5660.173094\n",
       "2013-01-04  5923.138117\n",
       "2013-01-05  5299.049327\n",
       "...                 ...\n",
       "2015-07-27  9371.965919\n",
       "2015-07-28  8066.852915\n",
       "2015-07-29  7545.017040\n",
       "2015-07-30  7811.832287\n",
       "2015-07-31  8888.931839\n",
       "\n",
       "[942 rows x 1 columns]"
      ]
     },
     "execution_count": 73,
     "metadata": {},
     "output_type": "execute_result"
    }
   ],
   "source": [
    "data = train_sales.groupby(\"Date\").agg({\"Sales\": \"mean\"})\n",
    "data"
   ]
  },
  {
   "cell_type": "code",
   "execution_count": 74,
   "id": "6a4cd01f",
   "metadata": {},
   "outputs": [],
   "source": [
    "scaler = StandardScaler()\n",
    "scaled_array = scaler.fit_transform(data)\n",
    "data['DataScaled'] = scaled_array"
   ]
  },
  {
   "cell_type": "code",
   "execution_count": 75,
   "id": "d963525d",
   "metadata": {},
   "outputs": [
    {
     "data": {
      "text/plain": [
       "Index(['Sales', 'DataScaled'], dtype='object')"
      ]
     },
     "execution_count": 75,
     "metadata": {},
     "output_type": "execute_result"
    }
   ],
   "source": [
    "data.columns"
   ]
  },
  {
   "cell_type": "code",
   "execution_count": 76,
   "id": "48461ff1",
   "metadata": {},
   "outputs": [
    {
     "data": {
      "text/html": [
       "<div>\n",
       "<style scoped>\n",
       "    .dataframe tbody tr th:only-of-type {\n",
       "        vertical-align: middle;\n",
       "    }\n",
       "\n",
       "    .dataframe tbody tr th {\n",
       "        vertical-align: top;\n",
       "    }\n",
       "\n",
       "    .dataframe thead th {\n",
       "        text-align: right;\n",
       "    }\n",
       "</style>\n",
       "<table border=\"1\" class=\"dataframe\">\n",
       "  <thead>\n",
       "    <tr style=\"text-align: right;\">\n",
       "      <th></th>\n",
       "      <th>Sales</th>\n",
       "      <th>DataScaled</th>\n",
       "    </tr>\n",
       "    <tr>\n",
       "      <th>Date</th>\n",
       "      <th></th>\n",
       "      <th></th>\n",
       "    </tr>\n",
       "  </thead>\n",
       "  <tbody>\n",
       "    <tr>\n",
       "      <th>2013-01-01</th>\n",
       "      <td>84.395871</td>\n",
       "      <td>-1.996305</td>\n",
       "    </tr>\n",
       "    <tr>\n",
       "      <th>2013-01-02</th>\n",
       "      <td>6178.517489</td>\n",
       "      <td>0.170421</td>\n",
       "    </tr>\n",
       "    <tr>\n",
       "      <th>2013-01-03</th>\n",
       "      <td>5660.173094</td>\n",
       "      <td>-0.013873</td>\n",
       "    </tr>\n",
       "    <tr>\n",
       "      <th>2013-01-04</th>\n",
       "      <td>5923.138117</td>\n",
       "      <td>0.079622</td>\n",
       "    </tr>\n",
       "    <tr>\n",
       "      <th>2013-01-05</th>\n",
       "      <td>5299.049327</td>\n",
       "      <td>-0.142269</td>\n",
       "    </tr>\n",
       "  </tbody>\n",
       "</table>\n",
       "</div>"
      ],
      "text/plain": [
       "                  Sales  DataScaled\n",
       "Date                               \n",
       "2013-01-01    84.395871   -1.996305\n",
       "2013-01-02  6178.517489    0.170421\n",
       "2013-01-03  5660.173094   -0.013873\n",
       "2013-01-04  5923.138117    0.079622\n",
       "2013-01-05  5299.049327   -0.142269"
      ]
     },
     "execution_count": 76,
     "metadata": {},
     "output_type": "execute_result"
    }
   ],
   "source": [
    "data.head()"
   ]
  },
  {
   "cell_type": "code",
   "execution_count": 77,
   "id": "cb69efd7",
   "metadata": {},
   "outputs": [],
   "source": [
    "SIZE = len(data.DataScaled)\n",
    "WINDOW_SIZE = 48\n",
    "BATCH_SIZE = SIZE - WINDOW_SIZE * 2\n",
    "EPOCHS = 200"
   ]
  },
  {
   "cell_type": "code",
   "execution_count": 78,
   "id": "a81856be",
   "metadata": {},
   "outputs": [
    {
     "name": "stdout",
     "output_type": "stream",
     "text": [
      "Shape of the training set date series:  (846, 1)\n",
      "Shape of the validation set date series:  (96, 1)\n",
      "\n",
      "Shape of the training set logarithm of sales series:  (846,)\n",
      "Shape of the validation set logarithm of sales series in a stateless LSTM:  (96,)\n"
     ]
    }
   ],
   "source": [
    "DateTrain = data.index.values[0:BATCH_SIZE]\n",
    "DateValid = data.index.values[BATCH_SIZE:]\n",
    "XTrain = data.DataScaled.values[0:BATCH_SIZE].astype('float32')\n",
    "XValid = data.DataScaled.values[BATCH_SIZE:].astype('float32')\n",
    "\n",
    "# Obtain shapes for vectors of size (,1) for dates series\n",
    "\n",
    "DateTrain = np.reshape(DateTrain, (-1, 1))\n",
    "DateValid = np.reshape(DateValid, (-1, 1))\n",
    "\n",
    "print(\"Shape of the training set date series: \", DateTrain.shape)\n",
    "print(\"Shape of the validation set date series: \", DateValid.shape)\n",
    "print()\n",
    "print(\"Shape of the training set logarithm of sales series: \", XTrain.shape)\n",
    "print(\"Shape of the validation set logarithm of sales series in a stateless LSTM: \", XValid.shape)"
   ]
  },
  {
   "cell_type": "code",
   "execution_count": 79,
   "id": "fd49c5e4",
   "metadata": {},
   "outputs": [
    {
     "data": {
      "text/plain": [
       "TensorShape([846, 1])"
      ]
     },
     "execution_count": 79,
     "metadata": {},
     "output_type": "execute_result"
    }
   ],
   "source": [
    "tf.random.set_seed(1234)\n",
    "# add extra dimension\n",
    "series = tf.expand_dims(XTrain, axis=-1)\n",
    "series.shape"
   ]
  },
  {
   "cell_type": "code",
   "execution_count": 80,
   "id": "361da106",
   "metadata": {},
   "outputs": [
    {
     "data": {
      "text/plain": [
       "<TensorSliceDataset element_spec=TensorSpec(shape=(1,), dtype=tf.float32, name=None)>"
      ]
     },
     "execution_count": 80,
     "metadata": {},
     "output_type": "execute_result"
    }
   ],
   "source": [
    "# create tensor from each individual element\n",
    "dataset = tf.data.Dataset.from_tensor_slices(series)\n",
    "dataset"
   ]
  },
  {
   "cell_type": "code",
   "execution_count": 81,
   "id": "63337aa2",
   "metadata": {},
   "outputs": [],
   "source": [
    "# takes a window_size + 1 chunk from the slices\n",
    "dataset = dataset.window(WINDOW_SIZE + 1, shift=1, drop_remainder=True)"
   ]
  },
  {
   "cell_type": "code",
   "execution_count": 83,
   "id": "a0b699a4",
   "metadata": {},
   "outputs": [
    {
     "name": "stdout",
     "output_type": "stream",
     "text": [
      "[0, 1, 2, 3, 4]\n",
      "[1, 2, 3, 4, 5]\n",
      "[2, 3, 4, 5, 6]\n",
      "[3, 4, 5, 6, 7]\n",
      "[4, 5, 6, 7, 8]\n",
      "[5, 6, 7, 8, 9]\n"
     ]
    }
   ],
   "source": [
    "# Example of Window\n",
    "datasetEx = tf.data.Dataset.from_tensor_slices(tf.range(10))\n",
    "datasetEx = datasetEx.window(5, shift=1, drop_remainder=True)\n",
    "for window in datasetEx:\n",
    "    print([elem.numpy() for elem in window])"
   ]
  },
  {
   "cell_type": "code",
   "execution_count": 84,
   "id": "5bf2718e",
   "metadata": {},
   "outputs": [],
   "source": [
    "dataset = dataset.flat_map(lambda window: window.batch(WINDOW_SIZE + 1))"
   ]
  },
  {
   "cell_type": "code",
   "execution_count": 85,
   "id": "70d3037c",
   "metadata": {},
   "outputs": [],
   "source": [
    "\n",
    "dataset = dataset.map(lambda window: (window[:-1], window[-1:]))"
   ]
  },
  {
   "cell_type": "code",
   "execution_count": 86,
   "id": "4f190baf",
   "metadata": {},
   "outputs": [],
   "source": [
    "dataset = dataset.batch(BATCH_SIZE).prefetch(1)"
   ]
  },
  {
   "cell_type": "code",
   "execution_count": 87,
   "id": "8b7e373b",
   "metadata": {},
   "outputs": [],
   "source": [
    "def windowed_dataset(series, window_size=WINDOW_SIZE, batch_size=BATCH_SIZE):\n",
    "  series = tf.expand_dims(series, axis=-1)\n",
    "  dataset = tf.data.Dataset.from_tensor_slices(series)\n",
    "  dataset = dataset.window(window_size + 1, shift=1, drop_remainder=True)\n",
    "  dataset = dataset.flat_map(lambda window: window.batch(window_size + 1))\n",
    "  dataset = dataset.map(lambda window: (window[:-1], window[-1:]))\n",
    "  dataset = dataset.batch(batch_size).prefetch(1)\n",
    "  return dataset"
   ]
  },
  {
   "cell_type": "code",
   "execution_count": 88,
   "id": "3dcded81",
   "metadata": {},
   "outputs": [],
   "source": [
    "DatasetTrain = windowed_dataset(XTrain)\n",
    "DatasetVal = windowed_dataset(XValid)"
   ]
  },
  {
   "cell_type": "code",
   "execution_count": 89,
   "id": "60bff6ba",
   "metadata": {},
   "outputs": [],
   "source": [
    "model = Sequential()\n",
    "model.add(LSTM(8, input_shape=[None, 1], return_sequences=True))\n",
    "model.add(LSTM(4, input_shape=[None, 1]))\n",
    "model.add(Dense(1))\n",
    "model.compile(loss=\"huber_loss\", optimizer='adam')"
   ]
  },
  {
   "cell_type": "code",
   "execution_count": 90,
   "id": "77f4f03f",
   "metadata": {},
   "outputs": [
    {
     "name": "stdout",
     "output_type": "stream",
     "text": [
      "Model: \"sequential\"\n",
      "_________________________________________________________________\n",
      " Layer (type)                Output Shape              Param #   \n",
      "=================================================================\n",
      " lstm (LSTM)                 (None, None, 8)           320       \n",
      "                                                                 \n",
      " lstm_1 (LSTM)               (None, 4)                 208       \n",
      "                                                                 \n",
      " dense (Dense)               (None, 1)                 5         \n",
      "                                                                 \n",
      "=================================================================\n",
      "Total params: 533\n",
      "Trainable params: 533\n",
      "Non-trainable params: 0\n",
      "_________________________________________________________________\n"
     ]
    }
   ],
   "source": [
    "model.summary()"
   ]
  },
  {
   "cell_type": "code",
   "execution_count": 93,
   "id": "6973a59a",
   "metadata": {},
   "outputs": [
    {
     "name": "stderr",
     "output_type": "stream",
     "text": [
      "2022/05/26 22:53:58 WARNING mlflow.utils.autologging_utils: You are using an unsupported version of tensorflow. If you encounter errors during autologging, try upgrading / downgrading tensorflow to a supported version, or try upgrading MLflow.\n",
      "2022/05/26 22:53:58 INFO mlflow.utils.autologging_utils: Created MLflow autologging run with ID '765919c5ce31426cb7ed02552281dd2c', which will track hyperparameters, performance metrics, model artifacts, and lineage information for the current tensorflow workflow\n"
     ]
    },
    {
     "name": "stdout",
     "output_type": "stream",
     "text": [
      "Epoch 1/200\n",
      "1/1 [==============================] - 0s 336ms/step - loss: 0.3258 - val_loss: 0.2599\n",
      "Epoch 2/200\n",
      "1/1 [==============================] - 0s 368ms/step - loss: 0.3248 - val_loss: 0.2586\n",
      "Epoch 3/200\n",
      "1/1 [==============================] - 0s 394ms/step - loss: 0.3239 - val_loss: 0.2573\n",
      "Epoch 4/200\n",
      "1/1 [==============================] - 1s 544ms/step - loss: 0.3229 - val_loss: 0.2559\n",
      "Epoch 5/200\n",
      "1/1 [==============================] - 1s 593ms/step - loss: 0.3218 - val_loss: 0.2546\n",
      "Epoch 6/200\n",
      "1/1 [==============================] - 0s 299ms/step - loss: 0.3208 - val_loss: 0.2532\n",
      "Epoch 7/200\n",
      "1/1 [==============================] - 0s 412ms/step - loss: 0.3198 - val_loss: 0.2518\n",
      "Epoch 8/200\n",
      "1/1 [==============================] - 0s 235ms/step - loss: 0.3187 - val_loss: 0.2504\n",
      "Epoch 9/200\n",
      "1/1 [==============================] - 0s 232ms/step - loss: 0.3176 - val_loss: 0.2489\n",
      "Epoch 10/200\n",
      "1/1 [==============================] - 0s 230ms/step - loss: 0.3166 - val_loss: 0.2475\n",
      "Epoch 11/200\n",
      "1/1 [==============================] - 0s 324ms/step - loss: 0.3155 - val_loss: 0.2460\n",
      "Epoch 12/200\n",
      "1/1 [==============================] - 0s 234ms/step - loss: 0.3144 - val_loss: 0.2446\n",
      "Epoch 13/200\n",
      "1/1 [==============================] - 0s 229ms/step - loss: 0.3132 - val_loss: 0.2431\n",
      "Epoch 14/200\n",
      "1/1 [==============================] - 0s 218ms/step - loss: 0.3121 - val_loss: 0.2416\n",
      "Epoch 15/200\n",
      "1/1 [==============================] - 0s 218ms/step - loss: 0.3110 - val_loss: 0.2401\n",
      "Epoch 16/200\n",
      "1/1 [==============================] - 0s 219ms/step - loss: 0.3098 - val_loss: 0.2385\n",
      "Epoch 17/200\n",
      "1/1 [==============================] - 0s 221ms/step - loss: 0.3086 - val_loss: 0.2370\n",
      "Epoch 18/200\n",
      "1/1 [==============================] - 0s 222ms/step - loss: 0.3075 - val_loss: 0.2355\n",
      "Epoch 19/200\n",
      "1/1 [==============================] - 0s 227ms/step - loss: 0.3063 - val_loss: 0.2339\n",
      "Epoch 20/200\n",
      "1/1 [==============================] - 0s 223ms/step - loss: 0.3051 - val_loss: 0.2323\n",
      "Epoch 21/200\n",
      "1/1 [==============================] - 0s 220ms/step - loss: 0.3039 - val_loss: 0.2307\n",
      "Epoch 22/200\n",
      "1/1 [==============================] - 0s 255ms/step - loss: 0.3027 - val_loss: 0.2292\n",
      "Epoch 23/200\n",
      "1/1 [==============================] - 0s 370ms/step - loss: 0.3014 - val_loss: 0.2276\n",
      "Epoch 24/200\n",
      "1/1 [==============================] - 0s 318ms/step - loss: 0.3002 - val_loss: 0.2259\n",
      "Epoch 25/200\n",
      "1/1 [==============================] - 0s 305ms/step - loss: 0.2990 - val_loss: 0.2243\n",
      "Epoch 26/200\n",
      "1/1 [==============================] - 0s 321ms/step - loss: 0.2977 - val_loss: 0.2227\n",
      "Epoch 27/200\n",
      "1/1 [==============================] - 0s 325ms/step - loss: 0.2965 - val_loss: 0.2210\n",
      "Epoch 28/200\n",
      "1/1 [==============================] - 0s 231ms/step - loss: 0.2952 - val_loss: 0.2194\n",
      "Epoch 29/200\n",
      "1/1 [==============================] - 0s 231ms/step - loss: 0.2939 - val_loss: 0.2177\n",
      "Epoch 30/200\n",
      "1/1 [==============================] - 0s 231ms/step - loss: 0.2926 - val_loss: 0.2160\n",
      "Epoch 31/200\n",
      "1/1 [==============================] - 0s 220ms/step - loss: 0.2913 - val_loss: 0.2143\n",
      "Epoch 32/200\n",
      "1/1 [==============================] - 0s 218ms/step - loss: 0.2900 - val_loss: 0.2126\n",
      "Epoch 33/200\n",
      "1/1 [==============================] - 0s 235ms/step - loss: 0.2887 - val_loss: 0.2109\n",
      "Epoch 34/200\n",
      "1/1 [==============================] - 0s 236ms/step - loss: 0.2874 - val_loss: 0.2092\n",
      "Epoch 35/200\n",
      "1/1 [==============================] - 0s 222ms/step - loss: 0.2861 - val_loss: 0.2075\n",
      "Epoch 36/200\n",
      "1/1 [==============================] - 0s 242ms/step - loss: 0.2848 - val_loss: 0.2057\n",
      "Epoch 37/200\n",
      "1/1 [==============================] - 0s 334ms/step - loss: 0.2834 - val_loss: 0.2040\n",
      "Epoch 38/200\n",
      "1/1 [==============================] - 0s 225ms/step - loss: 0.2821 - val_loss: 0.2022\n",
      "Epoch 39/200\n",
      "1/1 [==============================] - 0s 325ms/step - loss: 0.2807 - val_loss: 0.2005\n",
      "Epoch 40/200\n",
      "1/1 [==============================] - 0s 235ms/step - loss: 0.2794 - val_loss: 0.1987\n",
      "Epoch 41/200\n",
      "1/1 [==============================] - 0s 233ms/step - loss: 0.2780 - val_loss: 0.1969\n",
      "Epoch 42/200\n",
      "1/1 [==============================] - 0s 254ms/step - loss: 0.2766 - val_loss: 0.1951\n",
      "Epoch 43/200\n",
      "1/1 [==============================] - 0s 251ms/step - loss: 0.2753 - val_loss: 0.1934\n",
      "Epoch 44/200\n",
      "1/1 [==============================] - 0s 242ms/step - loss: 0.2739 - val_loss: 0.1916\n",
      "Epoch 45/200\n",
      "1/1 [==============================] - 0s 268ms/step - loss: 0.2725 - val_loss: 0.1898\n",
      "Epoch 46/200\n",
      "1/1 [==============================] - 0s 260ms/step - loss: 0.2711 - val_loss: 0.1880\n",
      "Epoch 47/200\n",
      "1/1 [==============================] - 0s 251ms/step - loss: 0.2697 - val_loss: 0.1861\n",
      "Epoch 48/200\n",
      "1/1 [==============================] - 0s 238ms/step - loss: 0.2683 - val_loss: 0.1843\n",
      "Epoch 49/200\n",
      "1/1 [==============================] - 1s 553ms/step - loss: 0.2669 - val_loss: 0.1825\n",
      "Epoch 50/200\n",
      "1/1 [==============================] - 0s 371ms/step - loss: 0.2654 - val_loss: 0.1807\n",
      "Epoch 51/200\n",
      "1/1 [==============================] - 0s 302ms/step - loss: 0.2640 - val_loss: 0.1789\n",
      "Epoch 52/200\n",
      "1/1 [==============================] - 0s 222ms/step - loss: 0.2626 - val_loss: 0.1771\n",
      "Epoch 53/200\n",
      "1/1 [==============================] - 0s 214ms/step - loss: 0.2611 - val_loss: 0.1753\n",
      "Epoch 54/200\n",
      "1/1 [==============================] - 0s 239ms/step - loss: 0.2597 - val_loss: 0.1736\n",
      "Epoch 55/200\n",
      "1/1 [==============================] - 0s 223ms/step - loss: 0.2582 - val_loss: 0.1718\n",
      "Epoch 56/200\n",
      "1/1 [==============================] - 0s 237ms/step - loss: 0.2568 - val_loss: 0.1700\n",
      "Epoch 57/200\n",
      "1/1 [==============================] - 0s 230ms/step - loss: 0.2553 - val_loss: 0.1682\n",
      "Epoch 58/200\n",
      "1/1 [==============================] - 0s 244ms/step - loss: 0.2539 - val_loss: 0.1665\n",
      "Epoch 59/200\n",
      "1/1 [==============================] - 0s 235ms/step - loss: 0.2524 - val_loss: 0.1648\n",
      "Epoch 60/200\n",
      "1/1 [==============================] - 0s 234ms/step - loss: 0.2509 - val_loss: 0.1630\n",
      "Epoch 61/200\n",
      "1/1 [==============================] - 0s 362ms/step - loss: 0.2494 - val_loss: 0.1613\n",
      "Epoch 62/200\n",
      "1/1 [==============================] - 0s 234ms/step - loss: 0.2479 - val_loss: 0.1596\n",
      "Epoch 63/200\n",
      "1/1 [==============================] - 0s 269ms/step - loss: 0.2464 - val_loss: 0.1579\n",
      "Epoch 64/200\n",
      "1/1 [==============================] - 0s 295ms/step - loss: 0.2449 - val_loss: 0.1561\n",
      "Epoch 65/200\n",
      "1/1 [==============================] - 0s 243ms/step - loss: 0.2434 - val_loss: 0.1544\n",
      "Epoch 66/200\n",
      "1/1 [==============================] - 0s 239ms/step - loss: 0.2419 - val_loss: 0.1527\n",
      "Epoch 67/200\n",
      "1/1 [==============================] - 0s 268ms/step - loss: 0.2404 - val_loss: 0.1510\n",
      "Epoch 68/200\n",
      "1/1 [==============================] - 0s 276ms/step - loss: 0.2389 - val_loss: 0.1494\n",
      "Epoch 69/200\n",
      "1/1 [==============================] - 0s 257ms/step - loss: 0.2374 - val_loss: 0.1477\n",
      "Epoch 70/200\n",
      "1/1 [==============================] - 0s 248ms/step - loss: 0.2359 - val_loss: 0.1460\n",
      "Epoch 71/200\n",
      "1/1 [==============================] - 0s 233ms/step - loss: 0.2344 - val_loss: 0.1443\n",
      "Epoch 72/200\n",
      "1/1 [==============================] - 0s 258ms/step - loss: 0.2329 - val_loss: 0.1426\n",
      "Epoch 73/200\n",
      "1/1 [==============================] - 0s 265ms/step - loss: 0.2315 - val_loss: 0.1409\n",
      "Epoch 74/200\n",
      "1/1 [==============================] - 0s 235ms/step - loss: 0.2300 - val_loss: 0.1393\n",
      "Epoch 75/200\n",
      "1/1 [==============================] - 0s 261ms/step - loss: 0.2285 - val_loss: 0.1376\n",
      "Epoch 76/200\n",
      "1/1 [==============================] - 0s 257ms/step - loss: 0.2270 - val_loss: 0.1360\n",
      "Epoch 77/200\n",
      "1/1 [==============================] - 0s 256ms/step - loss: 0.2255 - val_loss: 0.1343\n",
      "Epoch 78/200\n",
      "1/1 [==============================] - 0s 244ms/step - loss: 0.2241 - val_loss: 0.1327\n",
      "Epoch 79/200\n",
      "1/1 [==============================] - 0s 230ms/step - loss: 0.2226 - val_loss: 0.1311\n",
      "Epoch 80/200\n",
      "1/1 [==============================] - 0s 261ms/step - loss: 0.2212 - val_loss: 0.1295\n",
      "Epoch 81/200\n",
      "1/1 [==============================] - 0s 252ms/step - loss: 0.2198 - val_loss: 0.1279\n",
      "Epoch 82/200\n",
      "1/1 [==============================] - 0s 244ms/step - loss: 0.2183 - val_loss: 0.1263\n",
      "Epoch 83/200\n"
     ]
    },
    {
     "name": "stdout",
     "output_type": "stream",
     "text": [
      "1/1 [==============================] - 0s 247ms/step - loss: 0.2169 - val_loss: 0.1248\n",
      "Epoch 84/200\n",
      "1/1 [==============================] - 0s 227ms/step - loss: 0.2155 - val_loss: 0.1232\n",
      "Epoch 85/200\n",
      "1/1 [==============================] - 0s 249ms/step - loss: 0.2141 - val_loss: 0.1217\n",
      "Epoch 86/200\n",
      "1/1 [==============================] - 0s 232ms/step - loss: 0.2127 - val_loss: 0.1202\n",
      "Epoch 87/200\n",
      "1/1 [==============================] - 0s 251ms/step - loss: 0.2113 - val_loss: 0.1187\n",
      "Epoch 88/200\n",
      "1/1 [==============================] - 0s 237ms/step - loss: 0.2100 - val_loss: 0.1173\n",
      "Epoch 89/200\n",
      "1/1 [==============================] - 0s 222ms/step - loss: 0.2086 - val_loss: 0.1158\n",
      "Epoch 90/200\n",
      "1/1 [==============================] - 0s 247ms/step - loss: 0.2073 - val_loss: 0.1143\n",
      "Epoch 91/200\n",
      "1/1 [==============================] - 0s 226ms/step - loss: 0.2059 - val_loss: 0.1129\n",
      "Epoch 92/200\n",
      "1/1 [==============================] - 0s 288ms/step - loss: 0.2046 - val_loss: 0.1115\n",
      "Epoch 93/200\n",
      "1/1 [==============================] - 0s 227ms/step - loss: 0.2033 - val_loss: 0.1100\n",
      "Epoch 94/200\n",
      "1/1 [==============================] - 0s 269ms/step - loss: 0.2020 - val_loss: 0.1086\n",
      "Epoch 95/200\n",
      "1/1 [==============================] - 0s 264ms/step - loss: 0.2007 - val_loss: 0.1072\n",
      "Epoch 96/200\n",
      "1/1 [==============================] - 0s 281ms/step - loss: 0.1994 - val_loss: 0.1058\n",
      "Epoch 97/200\n",
      "1/1 [==============================] - 0s 253ms/step - loss: 0.1981 - val_loss: 0.1045\n",
      "Epoch 98/200\n",
      "1/1 [==============================] - 0s 273ms/step - loss: 0.1968 - val_loss: 0.1031\n",
      "Epoch 99/200\n",
      "1/1 [==============================] - 0s 240ms/step - loss: 0.1956 - val_loss: 0.1018\n",
      "Epoch 100/200\n",
      "1/1 [==============================] - 0s 231ms/step - loss: 0.1944 - val_loss: 0.1004\n",
      "Epoch 101/200\n",
      "1/1 [==============================] - 0s 217ms/step - loss: 0.1931 - val_loss: 0.0991\n",
      "Epoch 102/200\n",
      "1/1 [==============================] - 0s 239ms/step - loss: 0.1919 - val_loss: 0.0979\n",
      "Epoch 103/200\n",
      "1/1 [==============================] - 0s 254ms/step - loss: 0.1907 - val_loss: 0.0966\n",
      "Epoch 104/200\n",
      "1/1 [==============================] - 0s 244ms/step - loss: 0.1895 - val_loss: 0.0953\n",
      "Epoch 105/200\n",
      "1/1 [==============================] - 0s 239ms/step - loss: 0.1883 - val_loss: 0.0941\n",
      "Epoch 106/200\n",
      "1/1 [==============================] - 0s 232ms/step - loss: 0.1872 - val_loss: 0.0928\n",
      "Epoch 107/200\n",
      "1/1 [==============================] - 0s 247ms/step - loss: 0.1860 - val_loss: 0.0916\n",
      "Epoch 108/200\n",
      "1/1 [==============================] - 0s 382ms/step - loss: 0.1849 - val_loss: 0.0904\n",
      "Epoch 109/200\n",
      "1/1 [==============================] - 0s 244ms/step - loss: 0.1838 - val_loss: 0.0892\n",
      "Epoch 110/200\n",
      "1/1 [==============================] - 0s 243ms/step - loss: 0.1827 - val_loss: 0.0881\n",
      "Epoch 111/200\n",
      "1/1 [==============================] - 0s 268ms/step - loss: 0.1816 - val_loss: 0.0869\n",
      "Epoch 112/200\n",
      "1/1 [==============================] - 0s 237ms/step - loss: 0.1805 - val_loss: 0.0858\n",
      "Epoch 113/200\n",
      "1/1 [==============================] - 0s 254ms/step - loss: 0.1795 - val_loss: 0.0847\n",
      "Epoch 114/200\n",
      "1/1 [==============================] - 0s 237ms/step - loss: 0.1784 - val_loss: 0.0836\n",
      "Epoch 115/200\n",
      "1/1 [==============================] - 0s 250ms/step - loss: 0.1774 - val_loss: 0.0826\n",
      "Epoch 116/200\n",
      "1/1 [==============================] - 0s 236ms/step - loss: 0.1764 - val_loss: 0.0815\n",
      "Epoch 117/200\n",
      "1/1 [==============================] - 0s 239ms/step - loss: 0.1754 - val_loss: 0.0805\n",
      "Epoch 118/200\n",
      "1/1 [==============================] - 0s 265ms/step - loss: 0.1744 - val_loss: 0.0795\n",
      "Epoch 119/200\n",
      "1/1 [==============================] - 0s 227ms/step - loss: 0.1734 - val_loss: 0.0785\n",
      "Epoch 120/200\n",
      "1/1 [==============================] - 0s 248ms/step - loss: 0.1725 - val_loss: 0.0776\n",
      "Epoch 121/200\n",
      "1/1 [==============================] - 0s 232ms/step - loss: 0.1715 - val_loss: 0.0767\n",
      "Epoch 122/200\n",
      "1/1 [==============================] - 0s 249ms/step - loss: 0.1706 - val_loss: 0.0758\n",
      "Epoch 123/200\n",
      "1/1 [==============================] - 0s 219ms/step - loss: 0.1697 - val_loss: 0.0749\n",
      "Epoch 124/200\n",
      "1/1 [==============================] - 0s 246ms/step - loss: 0.1688 - val_loss: 0.0740\n",
      "Epoch 125/200\n",
      "1/1 [==============================] - 0s 238ms/step - loss: 0.1679 - val_loss: 0.0732\n",
      "Epoch 126/200\n",
      "1/1 [==============================] - 0s 241ms/step - loss: 0.1671 - val_loss: 0.0724\n",
      "Epoch 127/200\n",
      "1/1 [==============================] - 0s 236ms/step - loss: 0.1662 - val_loss: 0.0716\n",
      "Epoch 128/200\n",
      "1/1 [==============================] - 0s 241ms/step - loss: 0.1654 - val_loss: 0.0708\n",
      "Epoch 129/200\n",
      "1/1 [==============================] - 0s 229ms/step - loss: 0.1645 - val_loss: 0.0700\n",
      "Epoch 130/200\n",
      "1/1 [==============================] - 0s 236ms/step - loss: 0.1637 - val_loss: 0.0692\n",
      "Epoch 131/200\n",
      "1/1 [==============================] - 0s 294ms/step - loss: 0.1629 - val_loss: 0.0685\n",
      "Epoch 132/200\n",
      "1/1 [==============================] - 0s 215ms/step - loss: 0.1621 - val_loss: 0.0678\n",
      "Epoch 133/200\n",
      "1/1 [==============================] - 0s 237ms/step - loss: 0.1613 - val_loss: 0.0670\n",
      "Epoch 134/200\n",
      "1/1 [==============================] - 0s 234ms/step - loss: 0.1605 - val_loss: 0.0663\n",
      "Epoch 135/200\n",
      "1/1 [==============================] - 0s 256ms/step - loss: 0.1598 - val_loss: 0.0657\n",
      "Epoch 136/200\n",
      "1/1 [==============================] - 0s 275ms/step - loss: 0.1590 - val_loss: 0.0650\n",
      "Epoch 137/200\n",
      "1/1 [==============================] - 0s 221ms/step - loss: 0.1583 - val_loss: 0.0643\n",
      "Epoch 138/200\n",
      "1/1 [==============================] - 0s 229ms/step - loss: 0.1576 - val_loss: 0.0637\n",
      "Epoch 139/200\n",
      "1/1 [==============================] - 0s 235ms/step - loss: 0.1568 - val_loss: 0.0630\n",
      "Epoch 140/200\n",
      "1/1 [==============================] - 0s 253ms/step - loss: 0.1561 - val_loss: 0.0624\n",
      "Epoch 141/200\n",
      "1/1 [==============================] - 0s 231ms/step - loss: 0.1554 - val_loss: 0.0618\n",
      "Epoch 142/200\n",
      "1/1 [==============================] - 0s 222ms/step - loss: 0.1547 - val_loss: 0.0612\n",
      "Epoch 143/200\n",
      "1/1 [==============================] - 0s 222ms/step - loss: 0.1540 - val_loss: 0.0606\n",
      "Epoch 144/200\n",
      "1/1 [==============================] - 0s 339ms/step - loss: 0.1534 - val_loss: 0.0601\n",
      "Epoch 145/200\n",
      "1/1 [==============================] - 0s 303ms/step - loss: 0.1527 - val_loss: 0.0595\n",
      "Epoch 146/200\n",
      "1/1 [==============================] - 0s 251ms/step - loss: 0.1521 - val_loss: 0.0589\n",
      "Epoch 147/200\n",
      "1/1 [==============================] - 0s 247ms/step - loss: 0.1514 - val_loss: 0.0584\n",
      "Epoch 148/200\n",
      "1/1 [==============================] - 0s 243ms/step - loss: 0.1508 - val_loss: 0.0578\n",
      "Epoch 149/200\n",
      "1/1 [==============================] - 0s 244ms/step - loss: 0.1501 - val_loss: 0.0573\n",
      "Epoch 150/200\n",
      "1/1 [==============================] - 0s 239ms/step - loss: 0.1495 - val_loss: 0.0568\n",
      "Epoch 151/200\n",
      "1/1 [==============================] - 0s 251ms/step - loss: 0.1489 - val_loss: 0.0563\n",
      "Epoch 152/200\n",
      "1/1 [==============================] - 0s 240ms/step - loss: 0.1483 - val_loss: 0.0557\n",
      "Epoch 153/200\n",
      "1/1 [==============================] - 0s 241ms/step - loss: 0.1477 - val_loss: 0.0552\n",
      "Epoch 154/200\n",
      "1/1 [==============================] - 0s 246ms/step - loss: 0.1471 - val_loss: 0.0548\n",
      "Epoch 155/200\n",
      "1/1 [==============================] - 0s 243ms/step - loss: 0.1465 - val_loss: 0.0543\n",
      "Epoch 156/200\n",
      "1/1 [==============================] - 0s 247ms/step - loss: 0.1459 - val_loss: 0.0538\n",
      "Epoch 157/200\n",
      "1/1 [==============================] - 0s 241ms/step - loss: 0.1454 - val_loss: 0.0533\n",
      "Epoch 158/200\n",
      "1/1 [==============================] - 0s 223ms/step - loss: 0.1448 - val_loss: 0.0529\n",
      "Epoch 159/200\n",
      "1/1 [==============================] - 0s 233ms/step - loss: 0.1443 - val_loss: 0.0524\n",
      "Epoch 160/200\n",
      "1/1 [==============================] - 0s 231ms/step - loss: 0.1437 - val_loss: 0.0519\n",
      "Epoch 161/200\n",
      "1/1 [==============================] - 0s 239ms/step - loss: 0.1432 - val_loss: 0.0515\n",
      "Epoch 162/200\n",
      "1/1 [==============================] - 0s 287ms/step - loss: 0.1426 - val_loss: 0.0511\n",
      "Epoch 163/200\n",
      "1/1 [==============================] - 0s 236ms/step - loss: 0.1421 - val_loss: 0.0506\n",
      "Epoch 164/200\n"
     ]
    },
    {
     "name": "stdout",
     "output_type": "stream",
     "text": [
      "1/1 [==============================] - 0s 228ms/step - loss: 0.1416 - val_loss: 0.0502\n",
      "Epoch 165/200\n",
      "1/1 [==============================] - 0s 220ms/step - loss: 0.1411 - val_loss: 0.0498\n",
      "Epoch 166/200\n",
      "1/1 [==============================] - 0s 223ms/step - loss: 0.1405 - val_loss: 0.0494\n",
      "Epoch 167/200\n",
      "1/1 [==============================] - 0s 225ms/step - loss: 0.1400 - val_loss: 0.0489\n",
      "Epoch 168/200\n",
      "1/1 [==============================] - 0s 221ms/step - loss: 0.1395 - val_loss: 0.0485\n",
      "Epoch 169/200\n",
      "1/1 [==============================] - 0s 222ms/step - loss: 0.1390 - val_loss: 0.0481\n",
      "Epoch 170/200\n",
      "1/1 [==============================] - 0s 221ms/step - loss: 0.1385 - val_loss: 0.0477\n",
      "Epoch 171/200\n",
      "1/1 [==============================] - 0s 286ms/step - loss: 0.1381 - val_loss: 0.0473\n",
      "Epoch 172/200\n",
      "1/1 [==============================] - 0s 209ms/step - loss: 0.1376 - val_loss: 0.0469\n",
      "Epoch 173/200\n",
      "1/1 [==============================] - 0s 215ms/step - loss: 0.1371 - val_loss: 0.0465\n",
      "Epoch 174/200\n",
      "1/1 [==============================] - 0s 214ms/step - loss: 0.1366 - val_loss: 0.0462\n",
      "Epoch 175/200\n",
      "1/1 [==============================] - 0s 214ms/step - loss: 0.1362 - val_loss: 0.0458\n",
      "Epoch 176/200\n",
      "1/1 [==============================] - 0s 224ms/step - loss: 0.1357 - val_loss: 0.0454\n",
      "Epoch 177/200\n",
      "1/1 [==============================] - 0s 219ms/step - loss: 0.1352 - val_loss: 0.0450\n",
      "Epoch 178/200\n",
      "1/1 [==============================] - 0s 241ms/step - loss: 0.1348 - val_loss: 0.0446\n",
      "Epoch 179/200\n",
      "1/1 [==============================] - 0s 275ms/step - loss: 0.1343 - val_loss: 0.0443\n",
      "Epoch 180/200\n",
      "1/1 [==============================] - 0s 207ms/step - loss: 0.1339 - val_loss: 0.0439\n",
      "Epoch 181/200\n",
      "1/1 [==============================] - 0s 287ms/step - loss: 0.1335 - val_loss: 0.0435\n",
      "Epoch 182/200\n",
      "1/1 [==============================] - 0s 423ms/step - loss: 0.1330 - val_loss: 0.0432\n",
      "Epoch 183/200\n",
      "1/1 [==============================] - 0s 242ms/step - loss: 0.1326 - val_loss: 0.0428\n",
      "Epoch 184/200\n",
      "1/1 [==============================] - 0s 438ms/step - loss: 0.1321 - val_loss: 0.0425\n",
      "Epoch 185/200\n",
      "1/1 [==============================] - 0s 245ms/step - loss: 0.1317 - val_loss: 0.0421\n",
      "Epoch 186/200\n",
      "1/1 [==============================] - 0s 276ms/step - loss: 0.1313 - val_loss: 0.0418\n",
      "Epoch 187/200\n",
      "1/1 [==============================] - 0s 416ms/step - loss: 0.1309 - val_loss: 0.0414\n",
      "Epoch 188/200\n",
      "1/1 [==============================] - 0s 253ms/step - loss: 0.1305 - val_loss: 0.0411\n",
      "Epoch 189/200\n",
      "1/1 [==============================] - 0s 244ms/step - loss: 0.1300 - val_loss: 0.0407\n",
      "Epoch 190/200\n",
      "1/1 [==============================] - 0s 241ms/step - loss: 0.1296 - val_loss: 0.0404\n",
      "Epoch 191/200\n",
      "1/1 [==============================] - 0s 237ms/step - loss: 0.1292 - val_loss: 0.0401\n",
      "Epoch 192/200\n",
      "1/1 [==============================] - 0s 246ms/step - loss: 0.1288 - val_loss: 0.0397\n",
      "Epoch 193/200\n",
      "1/1 [==============================] - 0s 244ms/step - loss: 0.1284 - val_loss: 0.0394\n",
      "Epoch 194/200\n",
      "1/1 [==============================] - 0s 276ms/step - loss: 0.1280 - val_loss: 0.0390\n",
      "Epoch 195/200\n",
      "1/1 [==============================] - 0s 248ms/step - loss: 0.1276 - val_loss: 0.0387\n",
      "Epoch 196/200\n",
      "1/1 [==============================] - 0s 248ms/step - loss: 0.1272 - val_loss: 0.0384\n",
      "Epoch 197/200\n",
      "1/1 [==============================] - 0s 244ms/step - loss: 0.1268 - val_loss: 0.0381\n",
      "Epoch 198/200\n",
      "1/1 [==============================] - 0s 250ms/step - loss: 0.1264 - val_loss: 0.0378\n",
      "Epoch 199/200\n",
      "1/1 [==============================] - 0s 405ms/step - loss: 0.1261 - val_loss: 0.0374\n",
      "Epoch 200/200\n",
      "1/1 [==============================] - 0s 240ms/step - loss: 0.1257 - val_loss: 0.0371\n"
     ]
    },
    {
     "name": "stderr",
     "output_type": "stream",
     "text": [
      "2022/05/26 22:54:54 WARNING mlflow.utils.autologging_utils: Encountered unexpected error during tensorflow autologging: 'PrefetchDataset' object has no attribute '_batch_size'\n"
     ]
    }
   ],
   "source": [
    "import mlflow\n",
    "mlflow.set_experiment(\"LSTM\")\n",
    "mlflow.tensorflow.autolog()\n",
    "history = model.fit(DatasetTrain, epochs=EPOCHS, validation_data=DatasetVal, verbose=1)"
   ]
  },
  {
   "cell_type": "code",
   "execution_count": null,
   "id": "0b736369",
   "metadata": {},
   "outputs": [],
   "source": []
  }
 ],
 "metadata": {
  "kernelspec": {
   "display_name": "Python 3 (ipykernel)",
   "language": "python",
   "name": "python3"
  },
  "language_info": {
   "codemirror_mode": {
    "name": "ipython",
    "version": 3
   },
   "file_extension": ".py",
   "mimetype": "text/x-python",
   "name": "python",
   "nbconvert_exporter": "python",
   "pygments_lexer": "ipython3",
   "version": "3.9.7"
  }
 },
 "nbformat": 4,
 "nbformat_minor": 5
}
