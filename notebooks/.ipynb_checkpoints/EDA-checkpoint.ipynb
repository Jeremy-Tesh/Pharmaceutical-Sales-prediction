{
 "cells": [
  {
   "cell_type": "code",
   "execution_count": 50,
   "id": "1a5cf712",
   "metadata": {},
   "outputs": [],
   "source": [
    "import pandas as pd\n",
    "import numpy as np\n",
    "import warnings\n",
    "import numpy as np\n",
    "import pandas as pd\n",
    "import seaborn as sns\n",
    "import matplotlib.pyplot as plt\n",
    "%matplotlib inline\n",
    "warnings.filterwarnings(\"ignore\")"
   ]
  },
  {
   "cell_type": "code",
   "execution_count": 51,
   "id": "0f011c7b",
   "metadata": {},
   "outputs": [],
   "source": [
    "# LOAD DATA\n",
    "train_df= pd.read_csv('../data/train.csv')\n",
    "test_df = pd.read_csv('../data/test.csv')\n",
    "store_df = pd.read_csv('../data/store.csv')"
   ]
  },
  {
   "cell_type": "code",
   "execution_count": 52,
   "id": "4901afad",
   "metadata": {},
   "outputs": [],
   "source": [
    "import sys\n",
    "import os\n",
    "sys.path.append(os.path.abspath(os.path.join('../scripts')))\n",
    "from cleaner import DfCleaner\n",
    "from df_outlier import DfOutlier\n",
    "from file_handler import FileHandler\n",
    "\n",
    "from df_overview import DfOverview\n",
    "from vis_seaborn import VisSeaborn"
   ]
  },
  {
   "cell_type": "code",
   "execution_count": 53,
   "id": "26d002b8",
   "metadata": {},
   "outputs": [],
   "source": [
    "sn = VisSeaborn()\n",
    "file_handler = FileHandler()\n"
   ]
  },
  {
   "cell_type": "code",
   "execution_count": 24,
   "id": "73dea0cf",
   "metadata": {},
   "outputs": [],
   "source": [
    "stores_types = [\"Store type A\", \"Store type B\", \"Store type C\", \"Store type D\"]\n",
    "state_holidays = [ \"Normal Day\", \"Public holiday\", \"Easter holiday\", \"Christmas\"] \n",
    "school_holidays = [\"School is closed\", \"School is open\"]\n",
    "assortment = [ \"Basic\", \"Extra\", \"Extended\"] \n",
    "promo = [\"Not participating\", \"Participating\"]\n",
    "store_open = [\"Closed\", \"Open\"]"
   ]
  },
  {
   "cell_type": "markdown",
   "id": "3b05d4fa",
   "metadata": {},
   "source": [
    "#  Exploration of customer purchasing behavior"
   ]
  },
  {
   "cell_type": "markdown",
   "id": "1a0a6b08",
   "metadata": {},
   "source": [
    "step 1 Check for distribution in both training and test sets - are the promotions distributed similarly between these two groups?"
   ]
  },
  {
   "cell_type": "code",
   "execution_count": 25,
   "id": "b423c71c",
   "metadata": {},
   "outputs": [
    {
     "data": {
      "text/html": [
       "<div>\n",
       "<style scoped>\n",
       "    .dataframe tbody tr th:only-of-type {\n",
       "        vertical-align: middle;\n",
       "    }\n",
       "\n",
       "    .dataframe tbody tr th {\n",
       "        vertical-align: top;\n",
       "    }\n",
       "\n",
       "    .dataframe thead th {\n",
       "        text-align: right;\n",
       "    }\n",
       "</style>\n",
       "<table border=\"1\" class=\"dataframe\">\n",
       "  <thead>\n",
       "    <tr style=\"text-align: right;\">\n",
       "      <th></th>\n",
       "      <th>Store</th>\n",
       "      <th>DayOfWeek</th>\n",
       "      <th>Date</th>\n",
       "      <th>Sales</th>\n",
       "      <th>Customers</th>\n",
       "      <th>Open</th>\n",
       "      <th>Promo</th>\n",
       "      <th>StateHoliday</th>\n",
       "      <th>SchoolHoliday</th>\n",
       "    </tr>\n",
       "  </thead>\n",
       "  <tbody>\n",
       "    <tr>\n",
       "      <th>0</th>\n",
       "      <td>1</td>\n",
       "      <td>5</td>\n",
       "      <td>2015-07-31</td>\n",
       "      <td>5263</td>\n",
       "      <td>555</td>\n",
       "      <td>1</td>\n",
       "      <td>1</td>\n",
       "      <td>0</td>\n",
       "      <td>1</td>\n",
       "    </tr>\n",
       "    <tr>\n",
       "      <th>1</th>\n",
       "      <td>2</td>\n",
       "      <td>5</td>\n",
       "      <td>2015-07-31</td>\n",
       "      <td>6064</td>\n",
       "      <td>625</td>\n",
       "      <td>1</td>\n",
       "      <td>1</td>\n",
       "      <td>0</td>\n",
       "      <td>1</td>\n",
       "    </tr>\n",
       "    <tr>\n",
       "      <th>2</th>\n",
       "      <td>3</td>\n",
       "      <td>5</td>\n",
       "      <td>2015-07-31</td>\n",
       "      <td>8314</td>\n",
       "      <td>821</td>\n",
       "      <td>1</td>\n",
       "      <td>1</td>\n",
       "      <td>0</td>\n",
       "      <td>1</td>\n",
       "    </tr>\n",
       "    <tr>\n",
       "      <th>3</th>\n",
       "      <td>4</td>\n",
       "      <td>5</td>\n",
       "      <td>2015-07-31</td>\n",
       "      <td>13995</td>\n",
       "      <td>1485</td>\n",
       "      <td>1</td>\n",
       "      <td>1</td>\n",
       "      <td>0</td>\n",
       "      <td>1</td>\n",
       "    </tr>\n",
       "    <tr>\n",
       "      <th>4</th>\n",
       "      <td>5</td>\n",
       "      <td>5</td>\n",
       "      <td>2015-07-31</td>\n",
       "      <td>4822</td>\n",
       "      <td>559</td>\n",
       "      <td>1</td>\n",
       "      <td>1</td>\n",
       "      <td>0</td>\n",
       "      <td>1</td>\n",
       "    </tr>\n",
       "    <tr>\n",
       "      <th>...</th>\n",
       "      <td>...</td>\n",
       "      <td>...</td>\n",
       "      <td>...</td>\n",
       "      <td>...</td>\n",
       "      <td>...</td>\n",
       "      <td>...</td>\n",
       "      <td>...</td>\n",
       "      <td>...</td>\n",
       "      <td>...</td>\n",
       "    </tr>\n",
       "    <tr>\n",
       "      <th>1017204</th>\n",
       "      <td>1111</td>\n",
       "      <td>2</td>\n",
       "      <td>2013-01-01</td>\n",
       "      <td>0</td>\n",
       "      <td>0</td>\n",
       "      <td>0</td>\n",
       "      <td>0</td>\n",
       "      <td>1</td>\n",
       "      <td>1</td>\n",
       "    </tr>\n",
       "    <tr>\n",
       "      <th>1017205</th>\n",
       "      <td>1112</td>\n",
       "      <td>2</td>\n",
       "      <td>2013-01-01</td>\n",
       "      <td>0</td>\n",
       "      <td>0</td>\n",
       "      <td>0</td>\n",
       "      <td>0</td>\n",
       "      <td>1</td>\n",
       "      <td>1</td>\n",
       "    </tr>\n",
       "    <tr>\n",
       "      <th>1017206</th>\n",
       "      <td>1113</td>\n",
       "      <td>2</td>\n",
       "      <td>2013-01-01</td>\n",
       "      <td>0</td>\n",
       "      <td>0</td>\n",
       "      <td>0</td>\n",
       "      <td>0</td>\n",
       "      <td>1</td>\n",
       "      <td>1</td>\n",
       "    </tr>\n",
       "    <tr>\n",
       "      <th>1017207</th>\n",
       "      <td>1114</td>\n",
       "      <td>2</td>\n",
       "      <td>2013-01-01</td>\n",
       "      <td>0</td>\n",
       "      <td>0</td>\n",
       "      <td>0</td>\n",
       "      <td>0</td>\n",
       "      <td>1</td>\n",
       "      <td>1</td>\n",
       "    </tr>\n",
       "    <tr>\n",
       "      <th>1017208</th>\n",
       "      <td>1115</td>\n",
       "      <td>2</td>\n",
       "      <td>2013-01-01</td>\n",
       "      <td>0</td>\n",
       "      <td>0</td>\n",
       "      <td>0</td>\n",
       "      <td>0</td>\n",
       "      <td>1</td>\n",
       "      <td>1</td>\n",
       "    </tr>\n",
       "  </tbody>\n",
       "</table>\n",
       "<p>1017209 rows × 9 columns</p>\n",
       "</div>"
      ],
      "text/plain": [
       "         Store  DayOfWeek        Date  Sales  Customers  Open  Promo  \\\n",
       "0            1          5  2015-07-31   5263        555     1      1   \n",
       "1            2          5  2015-07-31   6064        625     1      1   \n",
       "2            3          5  2015-07-31   8314        821     1      1   \n",
       "3            4          5  2015-07-31  13995       1485     1      1   \n",
       "4            5          5  2015-07-31   4822        559     1      1   \n",
       "...        ...        ...         ...    ...        ...   ...    ...   \n",
       "1017204   1111          2  2013-01-01      0          0     0      0   \n",
       "1017205   1112          2  2013-01-01      0          0     0      0   \n",
       "1017206   1113          2  2013-01-01      0          0     0      0   \n",
       "1017207   1114          2  2013-01-01      0          0     0      0   \n",
       "1017208   1115          2  2013-01-01      0          0     0      0   \n",
       "\n",
       "         StateHoliday  SchoolHoliday  \n",
       "0                   0              1  \n",
       "1                   0              1  \n",
       "2                   0              1  \n",
       "3                   0              1  \n",
       "4                   0              1  \n",
       "...               ...            ...  \n",
       "1017204             1              1  \n",
       "1017205             1              1  \n",
       "1017206             1              1  \n",
       "1017207             1              1  \n",
       "1017208             1              1  \n",
       "\n",
       "[1017209 rows x 9 columns]"
      ]
     },
     "execution_count": 25,
     "metadata": {},
     "output_type": "execute_result"
    }
   ],
   "source": [
    "train_data= train_df.copy()\n",
    "test_data = test_df.copy()\n",
    "train_data"
   ]
  },
  {
   "cell_type": "code",
   "execution_count": 26,
   "id": "09f03132",
   "metadata": {},
   "outputs": [],
   "source": [
    "def compare_test_train(train_data, test_data, feature, title):\n",
    "  fig, ax = plt.subplots(1, 2, sharex=True, figsize=(12, 4))\n",
    "  ax[0].set_title(\"Train \" + title)\n",
    "  sns.countplot(x=feature, data=train_data, ax=ax[0])\n",
    "  ax[1].set_title(\"Test \" + title)\n",
    "  sns.countplot(x=feature, data=test_data, ax=ax[1])\n",
    "  fig.subplots_adjust(wspace=0.3)\n",
    "  fig.show()"
   ]
  },
  {
   "cell_type": "code",
   "execution_count": 27,
   "id": "8f4c5698",
   "metadata": {},
   "outputs": [
    {
     "data": {
      "image/png": "[encoded data removed]",
      "text/plain": [
       "<Figure size 864x288 with 2 Axes>"
      ]
     },
     "metadata": {
      "needs_background": "light"
     },
     "output_type": "display_data"
    }
   ],
   "source": [
    "# Promotion comparision between train and test data\n",
    "train_data[\"Promo\"] = train_data[\"Promo\"].apply(lambda x: promo[x])\n",
    "test_data[\"Promo\"] = test_data[\"Promo\"].apply(lambda x: promo[x])\n",
    "compare_test_train(train_data, test_data, 'Promo', \"Promotion Count\")"
   ]
  },
  {
   "cell_type": "code",
   "execution_count": 28,
   "id": "0ac0aded",
   "metadata": {},
   "outputs": [
    {
     "data": {
      "image/png": "[encoded data removed]",
      "text/plain": [
       "<Figure size 864x288 with 2 Axes>"
      ]
     },
     "metadata": {
      "needs_background": "light"
     },
     "output_type": "display_data"
    }
   ],
   "source": [
    "# Open store count\n",
    "train_data[\"Open\"] = train_data[\"Open\"].apply(lambda x: store_open[x])\n",
    "test_data[\"Open\"] = test_data[\"Open\"].apply(lambda x: store_open[x])\n",
    "compare_test_train(train_data, test_data, 'Open', \"Open Store Count\")"
   ]
  },
  {
   "cell_type": "code",
   "execution_count": 29,
   "id": "efd2239b",
   "metadata": {},
   "outputs": [
    {
     "data": {
      "image/png": "[encoded data removed]",
      "text/plain": [
       "<Figure size 864x288 with 2 Axes>"
      ]
     },
     "metadata": {
      "needs_background": "light"
     },
     "output_type": "display_data"
    }
   ],
   "source": [
    "train_data[\"SchoolHoliday\"] = train_data[\"SchoolHoliday\"].apply(lambda x: school_holidays[x])\n",
    "test_data[\"SchoolHoliday\"] = test_data[\"SchoolHoliday\"].apply(lambda x: school_holidays[x])\n",
    "compare_test_train(train_data, test_data, 'SchoolHoliday', \"Open Store Count\")"
   ]
  },
  {
   "cell_type": "markdown",
   "id": "508736ff",
   "metadata": {},
   "source": [
    "On our test data Schools are more closed than open. This is not normal, the more representative data is the training data, in which there are far more days schools are open than closed."
   ]
  },
  {
   "cell_type": "code",
   "execution_count": 30,
   "id": "39443559",
   "metadata": {},
   "outputs": [
    {
     "data": {
      "text/html": [
       "<div>\n",
       "<style scoped>\n",
       "    .dataframe tbody tr th:only-of-type {\n",
       "        vertical-align: middle;\n",
       "    }\n",
       "\n",
       "    .dataframe tbody tr th {\n",
       "        vertical-align: top;\n",
       "    }\n",
       "\n",
       "    .dataframe thead th {\n",
       "        text-align: right;\n",
       "    }\n",
       "</style>\n",
       "<table border=\"1\" class=\"dataframe\">\n",
       "  <thead>\n",
       "    <tr style=\"text-align: right;\">\n",
       "      <th></th>\n",
       "      <th>StateHoliday</th>\n",
       "      <th>count</th>\n",
       "    </tr>\n",
       "  </thead>\n",
       "  <tbody>\n",
       "    <tr>\n",
       "      <th>0</th>\n",
       "      <td>Normal Day</td>\n",
       "      <td>986159</td>\n",
       "    </tr>\n",
       "    <tr>\n",
       "      <th>1</th>\n",
       "      <td>Public holiday</td>\n",
       "      <td>20260</td>\n",
       "    </tr>\n",
       "    <tr>\n",
       "      <th>2</th>\n",
       "      <td>Easter holiday</td>\n",
       "      <td>6690</td>\n",
       "    </tr>\n",
       "    <tr>\n",
       "      <th>3</th>\n",
       "      <td>Christmas</td>\n",
       "      <td>4100</td>\n",
       "    </tr>\n",
       "  </tbody>\n",
       "</table>\n",
       "</div>"
      ],
      "text/plain": [
       "     StateHoliday   count\n",
       "0      Normal Day  986159\n",
       "1  Public holiday   20260\n",
       "2  Easter holiday    6690\n",
       "3       Christmas    4100"
      ]
     },
     "execution_count": 30,
     "metadata": {},
     "output_type": "execute_result"
    }
   ],
   "source": [
    "state_holiday_train = train_data.groupby(['StateHoliday']).agg({'StateHoliday': ['count']})\n",
    "state_holiday_train.columns = ['count']\n",
    "state_holiday_train = state_holiday_train.reset_index()\n",
    "state_holiday_train[\"StateHoliday\"] = state_holiday_train[\"StateHoliday\"].apply(lambda x: state_holidays[x])\n",
    "state_holiday_train"
   ]
  },
  {
   "cell_type": "code",
   "execution_count": 32,
   "id": "314aba9f",
   "metadata": {},
   "outputs": [
    {
     "data": {
      "text/html": [
       "<div>\n",
       "<style scoped>\n",
       "    .dataframe tbody tr th:only-of-type {\n",
       "        vertical-align: middle;\n",
       "    }\n",
       "\n",
       "    .dataframe tbody tr th {\n",
       "        vertical-align: top;\n",
       "    }\n",
       "\n",
       "    .dataframe thead th {\n",
       "        text-align: right;\n",
       "    }\n",
       "</style>\n",
       "<table border=\"1\" class=\"dataframe\">\n",
       "  <thead>\n",
       "    <tr style=\"text-align: right;\">\n",
       "      <th></th>\n",
       "      <th>StateHoliday</th>\n",
       "      <th>count</th>\n",
       "    </tr>\n",
       "  </thead>\n",
       "  <tbody>\n",
       "    <tr>\n",
       "      <th>0</th>\n",
       "      <td>Normal Day</td>\n",
       "      <td>40908</td>\n",
       "    </tr>\n",
       "    <tr>\n",
       "      <th>1</th>\n",
       "      <td>Public holiday</td>\n",
       "      <td>180</td>\n",
       "    </tr>\n",
       "  </tbody>\n",
       "</table>\n",
       "</div>"
      ],
      "text/plain": [
       "     StateHoliday  count\n",
       "0      Normal Day  40908\n",
       "1  Public holiday    180"
      ]
     },
     "execution_count": 32,
     "metadata": {},
     "output_type": "execute_result"
    }
   ],
   "source": [
    "state_holiday_test = test_df.groupby(['StateHoliday']).agg({'StateHoliday': ['count']})\n",
    "state_holiday_test.columns = ['count']\n",
    "state_holiday_test = state_holiday_test.reset_index()\n",
    "state_holiday_test[\"StateHoliday\"] = state_holiday_test[\"StateHoliday\"].apply(lambda x: state_holidays[x])\n",
    "state_holiday_test"
   ]
  },
  {
   "cell_type": "code",
   "execution_count": 60,
   "id": "4c442803",
   "metadata": {},
   "outputs": [],
   "source": [
    "def plot_box_multi(df: pd.DataFrame, x_col: str, y_col: str, title: str) -> None:\n",
    "        \"\"\"Plot the box chart for multiple column.\n",
    "\n",
    "        Args:\n",
    "            df(pd.DataFrame): Dataframe to be plotted.\n",
    "            column(str): column to be plotted.\n",
    "        \"\"\"\n",
    "        plt.figure(figsize=(12, 7))\n",
    "        sns.boxplot(data=df, x=x_col, y=y_col)\n",
    "        plt.title(title, size=20)\n",
    "        plt.xticks(rotation=75, fontsize=14)\n",
    "        plt.yticks(fontsize=14)\n",
    "       \n",
    "        plt.show()\n"
   ]
  },
  {
   "cell_type": "code",
   "execution_count": 64,
   "id": "1cd6363c",
   "metadata": {},
   "outputs": [
    {
     "data": {
      "image/png": "[encoded data removed]",
      "text/plain": [
       "<Figure size 864x504 with 1 Axes>"
      ]
     },
     "metadata": {
      "needs_background": "light"
     },
     "output_type": "display_data"
    }
   ],
   "source": [
    "plot_box_multi(state_holiday_train, 'StateHoliday', 'count','sales behavior')"
   ]
  },
  {
   "cell_type": "code",
   "execution_count": 74,
   "id": "df04cc80",
   "metadata": {},
   "outputs": [
    {
     "data": {
      "text/plain": [
       "(1017209, 22)"
      ]
     },
     "execution_count": 74,
     "metadata": {},
     "output_type": "execute_result"
    }
   ],
   "source": [
    "# merge the two data for further analysis\n",
    "df_train_store = pd.merge(train_df.reset_index(), store_df, how='inner', on='Store')\n",
    "df_train_store.shape"
   ]
  },
  {
   "cell_type": "code",
   "execution_count": 76,
   "id": "23ca4029",
   "metadata": {},
   "outputs": [],
   "source": [
    "df_train_store['Date'] = pd.DatetimeIndex(df_train_store['Date'])\n",
    "df_train_store['Year'] = pd.DatetimeIndex(df_train_store['Date']).year\n",
    "df_train_store['Month'] = pd.DatetimeIndex(df_train_store['Date']).month\n",
    "df_train_store['Day'] = pd.DatetimeIndex(df_train_store['Date']).day"
   ]
  },
  {
   "cell_type": "code",
   "execution_count": 77,
   "id": "e769691b",
   "metadata": {},
   "outputs": [],
   "source": [
    "df = df_train_store.copy()"
   ]
  },
  {
   "cell_type": "code",
   "execution_count": 78,
   "id": "5c46d556",
   "metadata": {},
   "outputs": [
    {
     "data": {
      "text/html": [
       "<div>\n",
       "<style scoped>\n",
       "    .dataframe tbody tr th:only-of-type {\n",
       "        vertical-align: middle;\n",
       "    }\n",
       "\n",
       "    .dataframe tbody tr th {\n",
       "        vertical-align: top;\n",
       "    }\n",
       "\n",
       "    .dataframe thead th {\n",
       "        text-align: right;\n",
       "    }\n",
       "</style>\n",
       "<table border=\"1\" class=\"dataframe\">\n",
       "  <thead>\n",
       "    <tr style=\"text-align: right;\">\n",
       "      <th></th>\n",
       "      <th>StoreType</th>\n",
       "      <th>Customers</th>\n",
       "      <th>Sales</th>\n",
       "    </tr>\n",
       "  </thead>\n",
       "  <tbody>\n",
       "    <tr>\n",
       "      <th>0</th>\n",
       "      <td>Store type A</td>\n",
       "      <td>640.025626</td>\n",
       "      <td>5640.539466</td>\n",
       "    </tr>\n",
       "    <tr>\n",
       "      <th>1</th>\n",
       "      <td>Store type B</td>\n",
       "      <td>1321.559760</td>\n",
       "      <td>9198.315793</td>\n",
       "    </tr>\n",
       "    <tr>\n",
       "      <th>2</th>\n",
       "      <td>Store type C</td>\n",
       "      <td>663.820001</td>\n",
       "      <td>5668.122113</td>\n",
       "    </tr>\n",
       "    <tr>\n",
       "      <th>3</th>\n",
       "      <td>Store type D</td>\n",
       "      <td>501.292724</td>\n",
       "      <td>5611.875173</td>\n",
       "    </tr>\n",
       "  </tbody>\n",
       "</table>\n",
       "</div>"
      ],
      "text/plain": [
       "      StoreType    Customers        Sales\n",
       "0  Store type A   640.025626  5640.539466\n",
       "1  Store type B  1321.559760  9198.315793\n",
       "2  Store type C   663.820001  5668.122113\n",
       "3  Store type D   501.292724  5611.875173"
      ]
     },
     "execution_count": 78,
     "metadata": {},
     "output_type": "execute_result"
    }
   ],
   "source": [
    "df[\"StoreType\"] = df[\"StoreType\"].apply(lambda x: stores_types[x])\n",
    "store_type_df = df.groupby('StoreType').agg({'Customers': 'mean', 'Sales': 'mean'})\n",
    "store_type_df = store_type_df.reset_index()\n",
    "store_type_df"
   ]
  },
  {
   "cell_type": "code",
   "execution_count": 79,
   "id": "6406d082",
   "metadata": {},
   "outputs": [
    {
     "data": {
      "text/html": [
       "<div>\n",
       "<style scoped>\n",
       "    .dataframe tbody tr th:only-of-type {\n",
       "        vertical-align: middle;\n",
       "    }\n",
       "\n",
       "    .dataframe tbody tr th {\n",
       "        vertical-align: top;\n",
       "    }\n",
       "\n",
       "    .dataframe thead th {\n",
       "        text-align: right;\n",
       "    }\n",
       "</style>\n",
       "<table border=\"1\" class=\"dataframe\">\n",
       "  <thead>\n",
       "    <tr style=\"text-align: right;\">\n",
       "      <th></th>\n",
       "      <th>Year</th>\n",
       "      <th>Customers</th>\n",
       "      <th>Sales</th>\n",
       "    </tr>\n",
       "  </thead>\n",
       "  <tbody>\n",
       "    <tr>\n",
       "      <th>0</th>\n",
       "      <td>2013</td>\n",
       "      <td>607.240310</td>\n",
       "      <td>5574.858876</td>\n",
       "    </tr>\n",
       "    <tr>\n",
       "      <th>1</th>\n",
       "      <td>2014</td>\n",
       "      <td>620.076613</td>\n",
       "      <td>5747.614674</td>\n",
       "    </tr>\n",
       "    <tr>\n",
       "      <th>2</th>\n",
       "      <td>2015</td>\n",
       "      <td>603.788751</td>\n",
       "      <td>5800.554264</td>\n",
       "    </tr>\n",
       "  </tbody>\n",
       "</table>\n",
       "</div>"
      ],
      "text/plain": [
       "   Year   Customers        Sales\n",
       "0  2013  607.240310  5574.858876\n",
       "1  2014  620.076613  5747.614674\n",
       "2  2015  603.788751  5800.554264"
      ]
     },
     "execution_count": 79,
     "metadata": {},
     "output_type": "execute_result"
    }
   ],
   "source": [
    "date_df = df.groupby('Year').agg({'Customers': 'mean', 'Sales': 'mean'})\n",
    "date_df = date_df.reset_index()\n",
    "date_df.head()"
   ]
  },
  {
   "cell_type": "code",
   "execution_count": 80,
   "id": "b306d200",
   "metadata": {},
   "outputs": [],
   "source": [
    "def plot_trend(df, columns, feature, title, x_label=\"\", y_label=\"\", labels=['']):\n",
    "  plt.figure(figsize=(18, 6))\n",
    "  for i in range(len(columns)):\n",
    "    sns.lineplot(x=df.index, y=df[columns[i]][feature], label=labels[i])\n",
    "  plt.title(title, fontsize=15, fontweight='bold')\n",
    "  plt.ylabel(x_label, fontsize=14)\n",
    "  plt.xlabel(y_label, fontsize=14)\n",
    "  plt.show()"
   ]
  },
  {
   "cell_type": "code",
   "execution_count": 81,
   "id": "df7291e1",
   "metadata": {},
   "outputs": [
    {
     "data": {
      "image/png": "[encoded data removed]",
      "text/plain": [
       "<Figure size 1296x432 with 1 Axes>"
      ]
     },
     "metadata": {
      "needs_background": "light"
     },
     "output_type": "display_data"
    }
   ],
   "source": [
    "daily_trend = df.groupby(['Day', 'StoreType']).agg({'Customers': 'mean', 'Sales': 'mean'})\n",
    "daily_trend = daily_trend.unstack().swaplevel(0, 1, 1).sort_index(1)\n",
    "columns = [\"Store type A\", \"Store type B\", \"Store type C\", \"Store type D\"]\n",
    "plot_trend(daily_trend, columns, 'Sales', 'Average daily sales for 3 years', labels=columns)"
   ]
  },
  {
   "cell_type": "code",
   "execution_count": null,
   "id": "362e3112",
   "metadata": {},
   "outputs": [],
   "source": []
  }
 ],
 "metadata": {
  "kernelspec": {
   "display_name": "Python 3 (ipykernel)",
   "language": "python",
   "name": "python3"
  },
  "language_info": {
   "codemirror_mode": {
    "name": "ipython",
    "version": 3
   },
   "file_extension": ".py",
   "mimetype": "text/x-python",
   "name": "python",
   "nbconvert_exporter": "python",
   "pygments_lexer": "ipython3",
   "version": "3.9.7"
  }
 },
 "nbformat": 4,
 "nbformat_minor": 5
}
